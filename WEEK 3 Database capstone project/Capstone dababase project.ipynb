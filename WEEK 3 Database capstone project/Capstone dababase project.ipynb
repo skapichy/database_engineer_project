{
 "cells": [
  {
   "cell_type": "code",
   "execution_count": 69,
   "id": "1384df2f",
   "metadata": {},
   "outputs": [],
   "source": [
    "import mysql.connector as connector"
   ]
  },
  {
   "cell_type": "code",
   "execution_count": 70,
   "id": "4313737c",
   "metadata": {},
   "outputs": [],
   "source": [
    "connection = connector.connect(user = \"imoru\", password = \"@96\",db = \"little_lemondb\")"
   ]
  },
  {
   "cell_type": "code",
   "execution_count": 71,
   "id": "b622b33f",
   "metadata": {},
   "outputs": [],
   "source": [
    "cursor = connection.cursor()"
   ]
  },
  {
   "cell_type": "code",
   "execution_count": 72,
   "id": "cdfe0277",
   "metadata": {},
   "outputs": [],
   "source": [
    "show_query_tables =\"SHOW TABLES\"\n",
    "cursor.execute(show_query_tables)"
   ]
  },
  {
   "cell_type": "code",
   "execution_count": 73,
   "id": "3fc12200",
   "metadata": {},
   "outputs": [
    {
     "name": "stdout",
     "output_type": "stream",
     "text": [
      "('booking',)\n",
      "('customer',)\n",
      "('delivery',)\n",
      "('menuitem',)\n",
      "('menus',)\n",
      "('orders',)\n",
      "('ordersview',)\n",
      "('staff',)\n"
     ]
    }
   ],
   "source": [
    "for tables in cursor:\n",
    "    print(tables)"
   ]
  },
  {
   "cell_type": "code",
   "execution_count": 74,
   "id": "773fb149",
   "metadata": {},
   "outputs": [
    {
     "name": "stdout",
     "output_type": "stream",
     "text": [
      "('information_schema',)\n",
      "('little_lemondb',)\n",
      "('mysql',)\n",
      "('performance_schema',)\n",
      "('sys',)\n"
     ]
    }
   ],
   "source": [
    "cursor.execute(\"show databases\")\n",
    "for databases in cursor:\n",
    "    print(databases)"
   ]
  },
  {
   "cell_type": "code",
   "execution_count": 75,
   "id": "852d96e3",
   "metadata": {},
   "outputs": [
    {
     "name": "stdout",
     "output_type": "stream",
     "text": [
      "Customer Table\n",
      "[(1, 'Vanessa McCarthy', 757536378, 'vm@mangatagallo.com'), (2, 'Marcos Romero', 757536379, 'mr@mangatagallo.com'), (3, 'Hiroki Yamane', 757536376, 'hy@mangatagallo.com'), (4, 'Anna Iversen', 757536375, 'ai@mangatagallo.com'), (5, 'Diana Pinto', 757536374, 'dp@mangatagallo.com')]\n"
     ]
    }
   ],
   "source": [
    "print('Customer Table')\n",
    "customer_query = \"\"\"select * from customer\"\"\"\n",
    "cursor.execute(customer_query)\n",
    "results = cursor.fetchall()\n",
    "print(results)"
   ]
  },
  {
   "cell_type": "code",
   "execution_count": 76,
   "id": "f2d41f2e",
   "metadata": {},
   "outputs": [
    {
     "name": "stdout",
     "output_type": "stream",
     "text": [
      "Order Table\n",
      "[(1, datetime.date(2022, 10, 15), 1, 1, 9, Decimal('2500.00')), (2, datetime.date(2022, 10, 16), 2, 2, 2, Decimal('800.00')), (3, datetime.date(2022, 10, 17), 3, 5, 1, Decimal('800.00')), (4, datetime.date(2022, 10, 17), 4, 3, 3, Decimal('1050.00')), (5, datetime.date(2022, 10, 18), 5, 4, 1, Decimal('1250.00'))]\n"
     ]
    }
   ],
   "source": [
    "print('Order Table')\n",
    "order_query = \"\"\"select * from Orders\"\"\"\n",
    "cursor.execute(order_query)\n",
    "results = cursor.fetchall()\n",
    "print(results)"
   ]
  },
  {
   "cell_type": "code",
   "execution_count": 77,
   "id": "ef68c41a",
   "metadata": {},
   "outputs": [
    {
     "name": "stdout",
     "output_type": "stream",
     "text": [
      "Customer Columns\n",
      "[('CustomerID', b'int', 'NO', 'PRI', None, ''), ('FullName', b'varchar(255)', 'NO', '', None, ''), ('PhoneNumber', b'int', 'NO', '', None, ''), ('Email', b'varchar(255)', 'NO', '', None, '')]\n"
     ]
    }
   ],
   "source": [
    "print('Customer Columns')\n",
    "customer_column_query = \"\"\"Show columns from Customer\"\"\"\n",
    "cursor.execute(customer_column_query)\n",
    "results = cursor.fetchall()\n",
    "print(results)"
   ]
  },
  {
   "cell_type": "code",
   "execution_count": 78,
   "id": "1bff0eb4",
   "metadata": {},
   "outputs": [
    {
     "name": "stdout",
     "output_type": "stream",
     "text": [
      "Order Columns\n",
      "[('OrderID', b'int', 'NO', 'PRI', None, ''), ('OrderDate', b'date', 'NO', '', None, ''), ('CustomerID', b'int', 'NO', 'MUL', None, ''), ('MenuID', b'int', 'NO', 'MUL', None, ''), ('Quantity', b'int', 'NO', '', None, ''), ('TotalCost', b'decimal(10,2)', 'NO', '', None, '')]\n"
     ]
    }
   ],
   "source": [
    "print('Order Columns')\n",
    "order_column_query = \"\"\"Show columns from Orders\"\"\"\n",
    "cursor.execute(order_column_query)\n",
    "results = cursor.fetchall()\n",
    "print(results)"
   ]
  },
  {
   "cell_type": "code",
   "execution_count": 89,
   "id": "00056176",
   "metadata": {},
   "outputs": [
    {
     "name": "stdout",
     "output_type": "stream",
     "text": [
      "Customer oder join \n",
      "[('Vanessa McCarthy', 757536378, 'vm@mangatagallo.com', Decimal('2500.00')), ('Marcos Romero', 757536379, 'mr@mangatagallo.com', Decimal('800.00')), ('Hiroki Yamane', 757536376, 'hy@mangatagallo.com', Decimal('800.00')), ('Anna Iversen', 757536375, 'ai@mangatagallo.com', Decimal('1050.00')), ('Diana Pinto', 757536374, 'dp@mangatagallo.com', Decimal('1250.00'))]\n"
     ]
    }
   ],
   "source": [
    "print('Customer oder join ')\n",
    "join_column_query = \"\"\"Select FullName,PhoneNumber,Email,TotalCost \n",
    "from customer INNER JOIN Orders ON customer.customerID = orders.OrderID \"\"\"\n",
    "cursor.execute(join_column_query)\n",
    "results = cursor.fetchall()\n",
    "print(results)"
   ]
  },
  {
   "cell_type": "code",
   "execution_count": 90,
   "id": "24f9dc4b",
   "metadata": {},
   "outputs": [
    {
     "name": "stdout",
     "output_type": "stream",
     "text": [
      "Filter Clause\n",
      "[('Vanessa McCarthy', Decimal('2500.00')), ('Anna Iversen', Decimal('1050.00')), ('Diana Pinto', Decimal('1250.00'))]\n"
     ]
    }
   ],
   "source": [
    "print('Filter Clause')\n",
    "join_column_query = \"\"\"Select FullName,TotalCost \n",
    "from customer INNER JOIN Orders  ON customer.customerID = orders.OrderID where TotalCost > 1000 \"\"\"\n",
    "cursor.execute(join_column_query)\n",
    "results = cursor.fetchall()\n",
    "print(results)"
   ]
  },
  {
   "cell_type": "code",
   "execution_count": 91,
   "id": "d1f558d8",
   "metadata": {},
   "outputs": [
    {
     "name": "stdout",
     "output_type": "stream",
     "text": [
      "Connection is closed\n"
     ]
    }
   ],
   "source": [
    "if connection.is_connected():\n",
    "\n",
    "    connection.close()\n",
    "    print('Connection is closed')\n",
    "else:\n",
    "    print('Connection already closed.')"
   ]
  },
  {
   "cell_type": "code",
   "execution_count": null,
   "id": "592e3b16",
   "metadata": {},
   "outputs": [],
   "source": []
  }
 ],
 "metadata": {
  "kernelspec": {
   "display_name": "Python 3 (ipykernel)",
   "language": "python",
   "name": "python3"
  },
  "language_info": {
   "codemirror_mode": {
    "name": "ipython",
    "version": 3
   },
   "file_extension": ".py",
   "mimetype": "text/x-python",
   "name": "python",
   "nbconvert_exporter": "python",
   "pygments_lexer": "ipython3",
   "version": "3.11.1"
  }
 },
 "nbformat": 4,
 "nbformat_minor": 5
}
